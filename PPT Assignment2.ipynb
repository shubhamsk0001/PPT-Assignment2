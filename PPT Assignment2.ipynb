{
 "cells": [
  {
   "cell_type": "code",
   "execution_count": null,
   "id": "982b39b2",
   "metadata": {},
   "outputs": [],
   "source": [
    "**Question 1**\n",
    "Given an integer array nums of 2n integers, group these integers into n pairs (a1, b1), (a2, b2),..., (an, bn) such that\n",
    "the sum of min(ai, bi) for all i is maximized. Return the maximized sum.\n",
    "\n",
    "**Example 1:**\n",
    "Input: nums = [1,4,3,2]\n",
    "Output: 4\n",
    "\n",
    "**Explanation:** All possible pairings (ignoring the ordering of elements) are:\n",
    "\n",
    "1. (1, 4), (2, 3) -> min(1, 4) + min(2, 3) = 1 + 2 = 3\n",
    "2. (1, 3), (2, 4) -> min(1, 3) + min(2, 4) = 1 + 2 = 3\n",
    "3. (1, 2), (3, 4) -> min(1, 2) + min(3, 4) = 1 + 3 = 4\n",
    "So the maximum possible sum is 4"
   ]
  },
  {
   "cell_type": "code",
   "execution_count": 29,
   "id": "5f7956bc",
   "metadata": {},
   "outputs": [
    {
     "name": "stdout",
     "output_type": "stream",
     "text": [
      "4\n"
     ]
    }
   ],
   "source": [
    "def arrayPairSum(nums):\n",
    "    nums.sort()\n",
    "    result = 0\n",
    "    numsLen = len(nums)\n",
    "    for i in range(0, numsLen - 1, 2):\n",
    "        result += nums[i]\n",
    "    return result\n",
    "print(arrayPairSum([1,4,3,2]))"
   ]
  },
  {
   "cell_type": "code",
   "execution_count": null,
   "id": "00ae2d0d",
   "metadata": {},
   "outputs": [],
   "source": [
    "Question 2\n",
    "Alice has n candies, where the ith candy is of type candyType[i]. Alice noticed that she started to gain weight, so she \n",
    "visited a doctor. \n",
    "\n",
    "The doctor advised Alice to only eat n / 2 of the candies she has (n is always even). Alice likes her candies very much,\n",
    "and she wants to eat the maximum number of different types of candies while still following the doctor's advice. \n",
    "\n",
    "Given the integer array candyType of length n, return the maximum number of different types of candies she can eat if she\n",
    "only eats n / 2 of them.\n",
    "\n",
    "Example 1:\n",
    "Input: candyType = [1,1,2,2,3,3]\n",
    "Output: 3\n",
    "\n",
    "Explanation: Alice can only eat 6 / 2 = 3 candies. Since there are only 3 types, she can eat one of each type."
   ]
  },
  {
   "cell_type": "code",
   "execution_count": 2,
   "id": "f8af46f6",
   "metadata": {},
   "outputs": [
    {
     "name": "stdout",
     "output_type": "stream",
     "text": [
      "3\n"
     ]
    }
   ],
   "source": [
    "def distributeCandies(candyType):\n",
    "    unique_candies = 0\n",
    "    for i in range(len(candyType)):\n",
    "        for j in range(0, i):\n",
    "            if candyType[i] == candyType[j]:\n",
    "                break\n",
    "        else:\n",
    "            unique_candies += 1\n",
    "    return min(unique_candies, len(candyType) // 2)\n",
    "print(distributeCandies([1,1,2,2,3,3]))"
   ]
  },
  {
   "cell_type": "code",
   "execution_count": null,
   "id": "6de93752",
   "metadata": {},
   "outputs": [],
   "source": [
    "Question 3\n",
    "We define a harmonious array as an array where the difference between its maximum value\n",
    "and its minimum value is exactly 1.\n",
    "\n",
    "Given an integer array nums, return the length of its longest harmonious subsequence\n",
    "among all its possible subsequences.\n",
    "\n",
    "A subsequence of an array is a sequence that can be derived from the array by deleting some or no elements without changing\n",
    "the order of the remaining elements.\n",
    "\n",
    "Example 1:\n",
    "Input: nums = [1,3,2,2,5,2,3,7]\n",
    "Output: 5\n",
    "\n",
    "Explanation: The longest harmonious subsequence is [3,2,2,2,3]."
   ]
  },
  {
   "cell_type": "code",
   "execution_count": 4,
   "id": "04298756",
   "metadata": {},
   "outputs": [
    {
     "name": "stdout",
     "output_type": "stream",
     "text": [
      "3\n"
     ]
    }
   ],
   "source": [
    "def longestSubseqWithDiffOne(arr, n):\n",
    "    dp = [1 for i in range(n)]\n",
    "    for i in range(n):\n",
    "        for j in range(i):\n",
    "            if ((arr[i] == arr[j]+1) or (arr[i] == arr[j]-1)):\n",
    "                dp[i] = max(dp[i], dp[j]+1)\n",
    "    result = 1\n",
    "    for i in range(n):\n",
    "        if (result < dp[i]):\n",
    "            result = dp[i]\n",
    "    return result\n",
    "\n",
    "\n",
    "arr =  [1,3,2,2,5,2,3,7]\n",
    "n = len(arr)\n",
    "print (longestSubseqWithDiffOne(arr, n))"
   ]
  },
  {
   "cell_type": "code",
   "execution_count": null,
   "id": "af5a7225",
   "metadata": {},
   "outputs": [],
   "source": [
    "Question 4\n",
    "You have a long flowerbed in which some of the plots are planted, and some are not.\n",
    "However, flowers cannot be planted in adjacent plots.\n",
    "Given an integer array flowerbed containing 0's and 1's, where 0 means empty and 1 means not empty, and an integer n, \n",
    "return true if n new flowers can be planted in the flowerbed without violating the no-adjacent-flowers rule and false \n",
    "otherwise.\n",
    "\n",
    "Example 1:\n",
    "Input: flowerbed = [1,0,0,0,1], n = 1\n",
    "Output: true"
   ]
  },
  {
   "cell_type": "code",
   "execution_count": 15,
   "id": "3fbd5d60",
   "metadata": {},
   "outputs": [
    {
     "name": "stdout",
     "output_type": "stream",
     "text": [
      "True\n"
     ]
    }
   ],
   "source": [
    "def canPlaceFlowers(flowerbed,n):\n",
    "    for i, flower in enumerate(flowerbed):\n",
    "        if flower == 0 and (i == 0 or flowerbed[i - 1] == 0) and (i == len(flowerbed) - 1 or flowerbed[i + 1] == 0):\n",
    "            flowerbed[i] = 1\n",
    "            n -= 1\n",
    "        if n >= 0:\n",
    "            return True\n",
    "\n",
    "        return False\n",
    "print(canPlaceFlowers([1,0,0,0,1],1))"
   ]
  },
  {
   "cell_type": "code",
   "execution_count": null,
   "id": "e486fc37",
   "metadata": {},
   "outputs": [],
   "source": [
    "Question 5\n",
    "Given an integer array nums, find three numbers whose product is maximum and return the maximum product.\n",
    "\n",
    "Example 1:\n",
    "Input: nums = [1,2,3]\n",
    "Output: 6"
   ]
  },
  {
   "cell_type": "code",
   "execution_count": 17,
   "id": "3d172735",
   "metadata": {},
   "outputs": [
    {
     "name": "stdout",
     "output_type": "stream",
     "text": [
      "6\n"
     ]
    }
   ],
   "source": [
    "def maxProduct(arr, n):\n",
    "    if n < 3:\n",
    "        return -1\n",
    "    arr.sort()\n",
    "    return max(arr[0] * arr[1] * arr[n - 1],\n",
    "               arr[n - 1] * arr[n - 2] * arr[n - 3])\n",
    "print(maxProduct( [1,2,3],3))"
   ]
  },
  {
   "cell_type": "code",
   "execution_count": null,
   "id": "4620213d",
   "metadata": {},
   "outputs": [],
   "source": [
    "Question 6\n",
    "Given an array of integers nums which is sorted in ascending order, and an integer target,\n",
    "write a function to search target in nums. If target exists, then return its index. Otherwise,\n",
    "return -1.\n",
    "\n",
    "You must write an algorithm with O(log n) runtime complexity.\n",
    "\n",
    "Input: nums = [-1,0,3,5,9,12], target = 9\n",
    "Output: 4\n",
    "\n",
    "Explanation: 9 exists in nums and its index is 4"
   ]
  },
  {
   "cell_type": "code",
   "execution_count": 21,
   "id": "5ba72757",
   "metadata": {},
   "outputs": [
    {
     "name": "stdout",
     "output_type": "stream",
     "text": [
      "4\n"
     ]
    }
   ],
   "source": [
    "def search(nums, target):\n",
    "    l = 0\n",
    "    r = len(nums)-1\n",
    "    while l<=r:\n",
    "        m = l + (r-l)//2\n",
    "        if nums[m]>target:\n",
    "            r=m-1\n",
    "        elif nums[m]<target:\n",
    "            l=m+1\n",
    "        else:\n",
    "            return m\n",
    "    return -1\n",
    "print(search([-1,0,3,5,9,12],9))"
   ]
  },
  {
   "cell_type": "code",
   "execution_count": null,
   "id": "b8b04bb2",
   "metadata": {},
   "outputs": [],
   "source": [
    "Question 7\n",
    "An array is monotonic if it is either monotone increasing or monotone decreasing.\n",
    "\n",
    "An array nums is monotone increasing if for all i <= j, nums[i] <= nums[j]. An array nums is\n",
    "monotone decreasing if for all i <= j, nums[i] >= nums[j].\n",
    "\n",
    "Given an integer array nums, return true if the given array is monotonic, or false otherwise.\n",
    "\n",
    "Example 1:\n",
    "Input: nums = [1,2,2,3]\n",
    "Output: true"
   ]
  },
  {
   "cell_type": "code",
   "execution_count": 23,
   "id": "557511b4",
   "metadata": {},
   "outputs": [
    {
     "name": "stdout",
     "output_type": "stream",
     "text": [
      "True\n"
     ]
    }
   ],
   "source": [
    "def check(arr):\n",
    "    N = len(arr)\n",
    "    inc = True\n",
    "    dec = True\n",
    "     \n",
    "    # Loop to check if array is increasing\n",
    "    for i in range(0, N-1):\n",
    "       \n",
    "        # To check if array is not increasing\n",
    "        if arr[i] > arr[i+1]:\n",
    "            inc = False\n",
    " \n",
    "    # Loop to check if array is decreasing\n",
    "    for i in range(0, N-1):\n",
    "       \n",
    "       # To check if array is not decreasing\n",
    "        if arr[i] < arr[i+1]:\n",
    "            dec = False\n",
    " \n",
    "    # Pick one whether inc or dec\n",
    "    return inc or dec\n",
    "print(check([1,2,2,3]))"
   ]
  },
  {
   "cell_type": "code",
   "execution_count": null,
   "id": "c1c9abad",
   "metadata": {},
   "outputs": [],
   "source": [
    "Question 8\n",
    "You are given an integer array nums and an integer k.\n",
    "\n",
    "In one operation, you can choose any index i where 0 <= i < nums.length and change nums[i] to nums[i] + x where x is an \n",
    "integer from the range [-k, k]. You can apply this operation at most once for each index i.\n",
    "\n",
    "The score of nums is the difference between the maximum and minimum elements in nums.\n",
    "\n",
    "Return the minimum score of nums after applying the mentioned operation at most once for each index in it.\n",
    "\n",
    "Example 1:\n",
    "Input: nums = [1], k = 0\n",
    "Output: 0\n",
    "\n",
    "Explanation: The score is max(nums) - min(nums) = 1 - 1 = 0."
   ]
  },
  {
   "cell_type": "code",
   "execution_count": 28,
   "id": "381b5e4e",
   "metadata": {},
   "outputs": [
    {
     "name": "stdout",
     "output_type": "stream",
     "text": [
      "0\n"
     ]
    }
   ],
   "source": [
    "    def smallestRangeI( nums, k):\n",
    "        res =(max(nums)-min(nums))- 2*k\n",
    "        return max(0,res)\n",
    "    print(smallestRangeI([1],0))"
   ]
  }
 ],
 "metadata": {
  "kernelspec": {
   "display_name": "Python 3 (ipykernel)",
   "language": "python",
   "name": "python3"
  },
  "language_info": {
   "codemirror_mode": {
    "name": "ipython",
    "version": 3
   },
   "file_extension": ".py",
   "mimetype": "text/x-python",
   "name": "python",
   "nbconvert_exporter": "python",
   "pygments_lexer": "ipython3",
   "version": "3.9.12"
  }
 },
 "nbformat": 4,
 "nbformat_minor": 5
}
